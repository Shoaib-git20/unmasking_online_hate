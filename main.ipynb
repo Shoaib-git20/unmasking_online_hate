!pip install transformers
!pip3 install keybert
from keybert import KeyBERT
kw_model = KeyBERT()
print("keyword model intialized")

from transformers import (
    TokenClassificationPipeline,
    AutoModelForTokenClassification,
    AutoTokenizer,
)

from transformers.pipelines import AggregationStrategy
import numpy as np
import torch
import pandas as pd

# Define keyphrase extraction pipeline
class KeyphraseExtractionPipeline(TokenClassificationPipeline):
    def __init__(self, model, *args, **kwargs):
        super().__init__(
            model=AutoModelForTokenClassification.from_pretrained(model),
            tokenizer=AutoTokenizer.from_pretrained(model),
            *args,
            **kwargs
        )

    def postprocess(self, all_outputs):
        results = super().postprocess(
            all_outputs=all_outputs,
            aggregation_strategy=AggregationStrategy.SIMPLE,
        )
        return np.unique([result.get("word").strip() for result in results])


# Load pipeline
#model_name = "ml6team/keyphrase-extraction-kbir-inspec"
#extractor = KeyphraseExtractionPipeline(model=model_name)

#print("Keyphrase model ready")

# -------------Roberta model --------------

# Use a pipeline as a high-level helper
from transformers import pipeline

#Load pipeline
pipe = pipeline("text-classification", model="facebook/roberta-hate-speech-dynabench-r4-target")

# Load model directly
from transformers import AutoTokenizer, AutoModelForSequenceClassification

pred_tokenizer = AutoTokenizer.from_pretrained("facebook/roberta-hate-speech-dynabench-r4-target")
roberta_model = AutoModelForSequenceClassification.from_pretrained("facebook/roberta-hate-speech-dynabench-r4-target")

print("ROberta model is ready")
print("Both are ready")
